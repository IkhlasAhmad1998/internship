{
 "cells": [
  {
   "cell_type": "code",
   "execution_count": 2,
   "id": "b0d109d8-8cde-4aff-9397-469ed5cc3ae2",
   "metadata": {},
   "outputs": [],
   "source": [
    "from pypdf import PdfReader\n",
    "from pprint import pprint\n",
    "import io\n",
    "import re\n",
    "from transformers import AutoTokenizer, AutoModelForSeq2SeqLM, pipeline\n",
    "from arabert.preprocess import ArabertPreprocessor"
   ]
  },
  {
   "cell_type": "code",
   "execution_count": 3,
   "id": "b29ffcf0-a293-4b25-bbad-7065f9aa1d57",
   "metadata": {},
   "outputs": [],
   "source": [
    "reader = PdfReader(\"data/Government Tenders and Procurement Law.pdf\")"
   ]
  },
  {
   "cell_type": "code",
   "execution_count": 4,
   "id": "9c51758a-d64c-40c4-8dea-f58815229291",
   "metadata": {},
   "outputs": [],
   "source": [
    "doc = []\n",
    "\n",
    "for page in reader.pages:\n",
    "    text = page.extract_text()\n",
    "    text = text.encode('utf-8').decode('utf-8')\n",
    "    doc.append(text)    "
   ]
  },
  {
   "cell_type": "code",
   "execution_count": 5,
   "id": "f2a884c3-76d2-4972-b0d2-18e8f86848c0",
   "metadata": {},
   "outputs": [],
   "source": [
    "def preprocess(doc):\n",
    "    data = []\n",
    "    for page in doc:\n",
    "        # Remove only the exact date \"19/04/2025\"\n",
    "        page = re.sub(r'\\b19/04/2025\\b,', '', page)\n",
    "        \n",
    "        # Remove only the exact time \"13:58\"\n",
    "        page = page.replace('13:58', '')\n",
    "        \n",
    "        # Remove the specific repeated Arabic phrase\n",
    "        page = re.sub(r'ﺗﻔﺎﺻﯾل اﻟﻧظﺎم', '', page)\n",
    "        \n",
    "        # Remove URLs\n",
    "        page = re.sub(r'https?://\\S+', '', page)\n",
    "\n",
    "        # Remove page numbers like 1/16 to 16/16\n",
    "        page = re.sub(r'\\b\\d{1,2}/\\d{1,2}\\b', '', page)\n",
    "\n",
    "        page = page.strip()\n",
    "        \n",
    "        if page:\n",
    "            data.append(page.strip())\n",
    "\n",
    "    return data"
   ]
  },
  {
   "cell_type": "code",
   "execution_count": 6,
   "id": "2187c878-2f3e-40f9-93c4-a745a40c036f",
   "metadata": {},
   "outputs": [],
   "source": [
    "preprocess_doc = preprocess(doc)"
   ]
  },
  {
   "cell_type": "code",
   "execution_count": 6,
   "id": "15c7c2b0-28a3-4def-b374-b868ba98ee08",
   "metadata": {},
   "outputs": [
    {
     "name": "stderr",
     "output_type": "stream",
     "text": [
      "WARNING:root:Model provided is not in the accepted model list. Preprocessor will default to a base Arabic preprocessor\n",
      "Device set to use cpu\n"
     ]
    }
   ],
   "source": [
    "model_name=\"abdalrahmanshahrour/arabartsummarization\"\n",
    "preprocessor = ArabertPreprocessor(model_name=\"\")\n",
    "\n",
    "tokenizer = AutoTokenizer.from_pretrained(model_name)\n",
    "model = AutoModelForSeq2SeqLM.from_pretrained(model_name)\n",
    "pipeline = pipeline(\"text2text-generation\",model=model,tokenizer=tokenizer,device=-1)"
   ]
  },
  {
   "cell_type": "code",
   "execution_count": 7,
   "id": "f8388ae4-19c8-47d4-9c53-4f3d61046f20",
   "metadata": {},
   "outputs": [],
   "source": [
    "result = pipeline(text[:1000],\n",
    "            pad_token_id=tokenizer.eos_token_id,\n",
    "            num_beams=3,\n",
    "            repetition_penalty=3.0,\n",
    "            max_new_tokens=1000,\n",
    "            length_penalty=0.5,\n",
    "            no_repeat_ngram_size = 3)[0]['generated_text']"
   ]
  },
  {
   "cell_type": "code",
   "execution_count": 8,
   "id": "d9671a3d-8470-44d1-be30-232010ac6217",
   "metadata": {},
   "outputs": [
    {
     "data": {
      "text/plain": [
       "'أصدر الملك عبد الله بن عبد العزيز آل سعود مرسوما ملكيا يقضي ب \"إلغاء نظام تأمن مشترات الحكومة وتنفذ مشروعاتا وأعمالا\".'"
      ]
     },
     "execution_count": 8,
     "metadata": {},
     "output_type": "execute_result"
    }
   ],
   "source": [
    "result"
   ]
  },
  {
   "cell_type": "code",
   "execution_count": 7,
   "id": "4b384f3d-2e08-413c-a8f8-cdb895410fca",
   "metadata": {},
   "outputs": [
    {
     "name": "stderr",
     "output_type": "stream",
     "text": [
      "<>:3: SyntaxWarning: invalid escape sequence '\\s'\n",
      "<>:3: SyntaxWarning: invalid escape sequence '\\s'\n",
      "C:\\Users\\Ikhlas\\AppData\\Local\\Temp\\ipykernel_3820\\1959504438.py:3: SyntaxWarning: invalid escape sequence '\\s'\n",
      "  WHITESPACE_HANDLER = lambda k: re.sub('\\s+', ' ', re.sub('\\n+', ' ', k.strip()))\n",
      "You are using the default legacy behaviour of the <class 'transformers.models.t5.tokenization_t5.T5Tokenizer'>. This is expected, and simply means that the `legacy` (previous) behavior will be used so nothing changes for you. If you want to use the new behaviour, set `legacy=False`. This should only be set if you understand what it means, and thoroughly read the reason why this was added as explained in https://github.com/huggingface/transformers/pull/24565\n",
      "C:\\Users\\Ikhlas\\Python\\internship\\venv\\Lib\\site-packages\\transformers\\convert_slow_tokenizer.py:564: UserWarning: The sentencepiece tokenizer that you are converting to a fast tokenizer uses the byte fallback option which is not implemented in the fast tokenizers. In practice this means that the fast version of the tokenizer can produce unknown tokens whereas the sentencepiece version would have converted these unknown tokens into a sequence of byte tokens matching the original piece of text.\n",
      "  warnings.warn(\n"
     ]
    },
    {
     "data": {
      "application/vnd.jupyter.widget-view+json": {
       "model_id": "2337333795ff4f93b3534de622992f88",
       "version_major": 2,
       "version_minor": 0
      },
      "text/plain": [
       "pytorch_model.bin:   0%|          | 0.00/2.33G [00:00<?, ?B/s]"
      ]
     },
     "metadata": {},
     "output_type": "display_data"
    },
    {
     "name": "stderr",
     "output_type": "stream",
     "text": [
      "C:\\Users\\Ikhlas\\Python\\internship\\venv\\Lib\\site-packages\\huggingface_hub\\file_download.py:143: UserWarning: `huggingface_hub` cache-system uses symlinks by default to efficiently store duplicated files but your machine does not support them in C:\\Users\\Ikhlas\\.cache\\huggingface\\hub\\models--csebuetnlp--mT5_multilingual_XLSum. Caching files will still work but in a degraded version that might require more space on your disk. This warning can be disabled by setting the `HF_HUB_DISABLE_SYMLINKS_WARNING` environment variable. For more details, see https://huggingface.co/docs/huggingface_hub/how-to-cache#limitations.\n",
      "To support symlinks on Windows, you either need to activate Developer Mode or to run Python as an administrator. In order to activate developer mode, see this article: https://docs.microsoft.com/en-us/windows/apps/get-started/enable-your-device-for-development\n",
      "  warnings.warn(message)\n"
     ]
    },
    {
     "data": {
      "application/vnd.jupyter.widget-view+json": {
       "model_id": "2e00332040294107b62153f1897ec3a6",
       "version_major": 2,
       "version_minor": 0
      },
      "text/plain": [
       "model.safetensors:   0%|          | 0.00/2.33G [00:00<?, ?B/s]"
      ]
     },
     "metadata": {},
     "output_type": "display_data"
    },
    {
     "name": "stdout",
     "output_type": "stream",
     "text": [
      "YouTube has banned thousands of videos spreading misinformation about Covid vaccines.\n"
     ]
    }
   ],
   "source": [
    "import re\n",
    "\n",
    "WHITESPACE_HANDLER = lambda k: re.sub('\\s+', ' ', re.sub('\\n+', ' ', k.strip()))\n",
    "\n",
    "article_text = \"\"\"Videos that say approved vaccines are dangerous and cause autism, cancer or infertility are among those that will be taken down, the company said.  The policy includes the termination of accounts of anti-vaccine influencers.  Tech giants have been criticised for not doing more to counter false health information on their sites.  In July, US President Joe Biden said social media platforms were largely responsible for people's scepticism in getting vaccinated by spreading misinformation, and appealed for them to address the issue.  YouTube, which is owned by Google, said 130,000 videos were removed from its platform since last year, when it implemented a ban on content spreading misinformation about Covid vaccines.  In a blog post, the company said it had seen false claims about Covid jabs \"spill over into misinformation about vaccines in general\". The new policy covers long-approved vaccines, such as those against measles or hepatitis B.  \"We're expanding our medical misinformation policies on YouTube with new guidelines on currently administered vaccines that are approved and confirmed to be safe and effective by local health authorities and the WHO,\" the post said, referring to the World Health Organization.\"\"\"\n",
    "\n",
    "model_name = \"csebuetnlp/mT5_multilingual_XLSum\"\n",
    "tokenizer = AutoTokenizer.from_pretrained(model_name)\n",
    "model = AutoModelForSeq2SeqLM.from_pretrained(model_name)\n",
    "\n",
    "input_ids = tokenizer(\n",
    "    [WHITESPACE_HANDLER(article_text)],\n",
    "    return_tensors=\"pt\",\n",
    "    padding=\"max_length\",\n",
    "    truncation=True,\n",
    "    max_length=512\n",
    ")[\"input_ids\"]\n",
    "\n",
    "output_ids = model.generate(\n",
    "    input_ids=input_ids,\n",
    "    max_length=84,\n",
    "    no_repeat_ngram_size=2,\n",
    "    num_beams=4\n",
    ")[0]\n",
    "\n",
    "summary = tokenizer.decode(\n",
    "    output_ids,\n",
    "    skip_special_tokens=True,\n",
    "    clean_up_tokenization_spaces=False\n",
    ")\n",
    "\n",
    "print(summary)\n"
   ]
  }
 ],
 "metadata": {
  "kernelspec": {
   "display_name": "internship (venv)",
   "language": "python",
   "name": "venv"
  },
  "language_info": {
   "codemirror_mode": {
    "name": "ipython",
    "version": 3
   },
   "file_extension": ".py",
   "mimetype": "text/x-python",
   "name": "python",
   "nbconvert_exporter": "python",
   "pygments_lexer": "ipython3",
   "version": "3.12.10"
  }
 },
 "nbformat": 4,
 "nbformat_minor": 5
}
